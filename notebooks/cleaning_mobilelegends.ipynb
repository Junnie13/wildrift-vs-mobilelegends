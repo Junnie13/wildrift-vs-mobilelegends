{
 "cells": [
  {
   "cell_type": "code",
   "execution_count": 1,
   "metadata": {},
   "outputs": [],
   "source": [
    "import pandas as pd"
   ]
  },
  {
   "cell_type": "code",
   "execution_count": 2,
   "metadata": {},
   "outputs": [
    {
     "name": "stdout",
     "output_type": "stream",
     "text": [
      "<class 'pandas.core.frame.DataFrame'>\n",
      "RangeIndex: 25074 entries, 0 to 25073\n",
      "Data columns (total 9 columns):\n",
      " #   Column                Non-Null Count  Dtype \n",
      "---  ------                --------------  ----- \n",
      " 0   Unnamed: 0            25074 non-null  int64 \n",
      " 1   reviewId              25074 non-null  object\n",
      " 2   userName              25074 non-null  object\n",
      " 3   content               25068 non-null  object\n",
      " 4   score                 25074 non-null  int64 \n",
      " 5   thumbsUpCount         25074 non-null  int64 \n",
      " 6   reviewCreatedVersion  19360 non-null  object\n",
      " 7   at                    25074 non-null  object\n",
      " 8   appVersion            19360 non-null  object\n",
      "dtypes: int64(3), object(6)\n",
      "memory usage: 1.7+ MB\n"
     ]
    }
   ],
   "source": [
    "# get the raw file\n",
    "df = pd.read_csv(\"csv/raw_mobilelegends.csv\")\n",
    "\n",
    "# get a summary of the dataset\n",
    "df.info()"
   ]
  },
  {
   "cell_type": "code",
   "execution_count": 3,
   "metadata": {},
   "outputs": [
    {
     "data": {
      "text/html": [
       "<div>\n",
       "<style scoped>\n",
       "    .dataframe tbody tr th:only-of-type {\n",
       "        vertical-align: middle;\n",
       "    }\n",
       "\n",
       "    .dataframe tbody tr th {\n",
       "        vertical-align: top;\n",
       "    }\n",
       "\n",
       "    .dataframe thead th {\n",
       "        text-align: right;\n",
       "    }\n",
       "</style>\n",
       "<table border=\"1\" class=\"dataframe\">\n",
       "  <thead>\n",
       "    <tr style=\"text-align: right;\">\n",
       "      <th></th>\n",
       "      <th>Unnamed: 0</th>\n",
       "      <th>reviewId</th>\n",
       "      <th>userName</th>\n",
       "      <th>content</th>\n",
       "      <th>score</th>\n",
       "      <th>thumbsUpCount</th>\n",
       "      <th>reviewCreatedVersion</th>\n",
       "      <th>at</th>\n",
       "      <th>appVersion</th>\n",
       "    </tr>\n",
       "  </thead>\n",
       "  <tbody>\n",
       "    <tr>\n",
       "      <th>0</th>\n",
       "      <td>0</td>\n",
       "      <td>daf84a04-08ad-471a-a3bd-eaa21397608d</td>\n",
       "      <td>Luffy Taro</td>\n",
       "      <td>THIS GANE IS NOT GOOD BECAUSE THERE ARE TOO MA...</td>\n",
       "      <td>1</td>\n",
       "      <td>0</td>\n",
       "      <td>NaN</td>\n",
       "      <td>2024-06-09 02:31:45</td>\n",
       "      <td>NaN</td>\n",
       "    </tr>\n",
       "    <tr>\n",
       "      <th>1</th>\n",
       "      <td>1</td>\n",
       "      <td>5480c618-6f9e-4f8d-a041-0009c38fa8c7</td>\n",
       "      <td>Bernalyn Castillo (Derf Martinez Mom)</td>\n",
       "      <td>Never play this because he scammed me igot Leg...</td>\n",
       "      <td>1</td>\n",
       "      <td>0</td>\n",
       "      <td>NaN</td>\n",
       "      <td>2024-06-09 02:31:28</td>\n",
       "      <td>NaN</td>\n",
       "    </tr>\n",
       "    <tr>\n",
       "      <th>2</th>\n",
       "      <td>2</td>\n",
       "      <td>3b273c54-a3b5-4c54-aa87-9ee36bdc68e8</td>\n",
       "      <td>Ian Wolf Valdez</td>\n",
       "      <td>Wala lang nakakainis lose streak</td>\n",
       "      <td>5</td>\n",
       "      <td>0</td>\n",
       "      <td>NaN</td>\n",
       "      <td>2024-06-09 02:30:08</td>\n",
       "      <td>NaN</td>\n",
       "    </tr>\n",
       "    <tr>\n",
       "      <th>3</th>\n",
       "      <td>3</td>\n",
       "      <td>f4e595cc-82bf-4ab5-abb0-9ff487f46000</td>\n",
       "      <td>Julie ann Fulgencio</td>\n",
       "      <td>Very nice game</td>\n",
       "      <td>1</td>\n",
       "      <td>0</td>\n",
       "      <td>1.8.79.9552</td>\n",
       "      <td>2024-06-09 02:27:47</td>\n",
       "      <td>1.8.79.9552</td>\n",
       "    </tr>\n",
       "    <tr>\n",
       "      <th>4</th>\n",
       "      <td>4</td>\n",
       "      <td>e550291c-9817-4480-a1ec-fea09b789930</td>\n",
       "      <td>Randz Garcia</td>\n",
       "      <td>0/5 trash teammates always 5man team enemy bas...</td>\n",
       "      <td>1</td>\n",
       "      <td>0</td>\n",
       "      <td>NaN</td>\n",
       "      <td>2024-06-09 02:26:52</td>\n",
       "      <td>NaN</td>\n",
       "    </tr>\n",
       "  </tbody>\n",
       "</table>\n",
       "</div>"
      ],
      "text/plain": [
       "   Unnamed: 0                              reviewId  \\\n",
       "0           0  daf84a04-08ad-471a-a3bd-eaa21397608d   \n",
       "1           1  5480c618-6f9e-4f8d-a041-0009c38fa8c7   \n",
       "2           2  3b273c54-a3b5-4c54-aa87-9ee36bdc68e8   \n",
       "3           3  f4e595cc-82bf-4ab5-abb0-9ff487f46000   \n",
       "4           4  e550291c-9817-4480-a1ec-fea09b789930   \n",
       "\n",
       "                                userName  \\\n",
       "0                             Luffy Taro   \n",
       "1  Bernalyn Castillo (Derf Martinez Mom)   \n",
       "2                        Ian Wolf Valdez   \n",
       "3                    Julie ann Fulgencio   \n",
       "4                           Randz Garcia   \n",
       "\n",
       "                                             content  score  thumbsUpCount  \\\n",
       "0  THIS GANE IS NOT GOOD BECAUSE THERE ARE TOO MA...      1              0   \n",
       "1  Never play this because he scammed me igot Leg...      1              0   \n",
       "2                   Wala lang nakakainis lose streak      5              0   \n",
       "3                                     Very nice game      1              0   \n",
       "4  0/5 trash teammates always 5man team enemy bas...      1              0   \n",
       "\n",
       "  reviewCreatedVersion                   at   appVersion  \n",
       "0                  NaN  2024-06-09 02:31:45          NaN  \n",
       "1                  NaN  2024-06-09 02:31:28          NaN  \n",
       "2                  NaN  2024-06-09 02:30:08          NaN  \n",
       "3          1.8.79.9552  2024-06-09 02:27:47  1.8.79.9552  \n",
       "4                  NaN  2024-06-09 02:26:52          NaN  "
      ]
     },
     "execution_count": 3,
     "metadata": {},
     "output_type": "execute_result"
    }
   ],
   "source": [
    "# overview of the dataset\n",
    "df.head()"
   ]
  },
  {
   "cell_type": "markdown",
   "metadata": {},
   "source": [
    "## Creating the date column with correct datatype"
   ]
  },
  {
   "cell_type": "code",
   "execution_count": 9,
   "metadata": {},
   "outputs": [
    {
     "name": "stdout",
     "output_type": "stream",
     "text": [
      "<class 'pandas.core.frame.DataFrame'>\n",
      "RangeIndex: 25074 entries, 0 to 25073\n",
      "Data columns (total 9 columns):\n",
      " #   Column                Non-Null Count  Dtype         \n",
      "---  ------                --------------  -----         \n",
      " 0   Unnamed: 0            25074 non-null  int64         \n",
      " 1   reviewId              25074 non-null  object        \n",
      " 2   userName              25074 non-null  object        \n",
      " 3   content               25068 non-null  object        \n",
      " 4   score                 25074 non-null  int64         \n",
      " 5   thumbsUpCount         25074 non-null  int64         \n",
      " 6   reviewCreatedVersion  19360 non-null  object        \n",
      " 7   datetime              25074 non-null  datetime64[ns]\n",
      " 8   appVersion            19360 non-null  object        \n",
      "dtypes: datetime64[ns](1), int64(3), object(5)\n",
      "memory usage: 1.7+ MB\n"
     ]
    }
   ],
   "source": [
    "df['at'] = pd.to_datetime(df['at'])\n",
    "df.rename(columns={'at':'datetime'},inplace=True)\n",
    "df.info()"
   ]
  },
  {
   "cell_type": "code",
   "execution_count": 10,
   "metadata": {},
   "outputs": [
    {
     "name": "stdout",
     "output_type": "stream",
     "text": [
      "Oldest datetime: 2024-05-19 20:32:45\n",
      "Newest datetime: 2024-06-09 02:31:45\n"
     ]
    }
   ],
   "source": [
    "oldest_datetime = df['datetime'].min()\n",
    "newest_datetime = df['datetime'].max()\n",
    "\n",
    "print(\"Oldest datetime:\", oldest_datetime)\n",
    "print(\"Newest datetime:\", newest_datetime)"
   ]
  }
 ],
 "metadata": {
  "kernelspec": {
   "display_name": "env",
   "language": "python",
   "name": "python3"
  },
  "language_info": {
   "codemirror_mode": {
    "name": "ipython",
    "version": 3
   },
   "file_extension": ".py",
   "mimetype": "text/x-python",
   "name": "python",
   "nbconvert_exporter": "python",
   "pygments_lexer": "ipython3",
   "version": "3.11.4"
  }
 },
 "nbformat": 4,
 "nbformat_minor": 2
}
